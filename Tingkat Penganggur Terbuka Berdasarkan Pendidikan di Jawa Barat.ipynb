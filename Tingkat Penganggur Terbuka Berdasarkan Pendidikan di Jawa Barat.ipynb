{
 "cells": [
  {
   "cell_type": "markdown",
   "id": "4ffbfb3c",
   "metadata": {},
   "source": [
    "# Tingkat Penganggur Terbuka Berdasarkan Pendidikan di Jawa Barat"
   ]
  },
  {
   "cell_type": "markdown",
   "id": "74b892ae",
   "metadata": {},
   "source": [
    "**Describe**\n",
    "\n",
    " Dataset ini berisi data tingkat penganggur terbuka berdasarkan pendidikan di Provinsi Jawa Barat dari tahun 2011 s.d. 2018.Datas\n",
    " et terkait topik Kependudukan ini dihasilkan oleh Dinas Tenaga Kerja dan Transmigrasi yang dikeluarkan dalam periode 1 sekali.P\n",
    " enjelasan mengenai variabel di dalam dataset ini:kode_provinsi: menyatakan kode Provinsi Jawa Barat sesuai ketentuan BPS mer\n",
    " ujuk pada aturan Peraturan Badan Pusat Statistik Nomor 3 Tahun 2019 dengan tipe data numerik.nama_provinsi: menyatakan lin\n",
    " gkup data berasal dari wilayah Provinsi Jawa Barat sesuai ketentuan BPS merujuk pada aturan Peraturan Badan Pusat Statistik N\n",
    " omor 3 Tahun 2019 dengan tipe data teks.pendidikan: menyatakan kategori jenjang pendidikan dengan tipe data teks.sd kebawah\n",
    " : menyatakan jenjang pendidikan dengan kelompok sekolah dasar kebawah.smtp: menyatakan jenjang pendidikan dengan kelomp\n",
    " ok sekolah menengah tingkat pertama.smta umum: menyatakan jenjang pendidikan dengan kelompok sekolah menengah tingkat \n",
    "atas umum.smta kejuruan: menyatakan jenjang pendidikan dengan kelompok sekolah menengah tingkat atas kejuruan.diploma i/ii\n",
    " /iii/akademi: menyatakan jenjang pendidikan dengan kelompok diploma i/ii/iii/akademi.universitas: menyatakan jenjang pendidikan \n",
    "dengan kelompok universitas.tingkat_penganggur_terbuka: menyatakan jumlah dari tingkat penganggur terbuka dengan tipe data \n",
    "numerik.satuan: menyatakan satuan dari pengukuran tingkat penganggur terbuka dalam jiwa dengan tipe data teks.tahun: menyat\n",
    " akan tahun produksi data dengan tipe data numerik.<br>\n",
    " \n",
    "  **Dataset Diperbarui**<br>\n",
    " 17 July 2023 10:43:59<br>\n",
    " \n",
    " **Dataset Dibuat**<br>\n",
    " 28 February 2021 23:20:06<br>\n",
    " \n",
    " **Bidang Urusan**<br>\n",
    " TENAGA KERJA<br>\n",
    " \n",
    " **Cakupan Dataset**<br>\n",
    " Seluruh Penganggur Terbuka di Provinsi Jawa Barat<br>\n",
    " \n",
    " **Dimensi Dataset Akhir**<br>\n",
    " 2018<br>\n",
    " \n",
    " **Dimensi Dataset Awal**<br>\n",
    " 2011<br>\n",
    " \n",
    " **Frekuensi Dataset**<br>\n",
    " \n",
    " Tahunan\n",
    "<br>\n",
    "\n",
    " **Kontak Produsen**<br>\n",
    " (022) 7512002 — disnakertrans@jabarprov.go.id"
   ]
  },
  {
   "cell_type": "markdown",
   "id": "0ab53f9c",
   "metadata": {},
   "source": [
    "# Data Knowledge"
   ]
  },
  {
   "cell_type": "code",
   "execution_count": 1,
   "id": "d3d6e410",
   "metadata": {},
   "outputs": [],
   "source": [
    "import pandas as pd\n",
    "import numpy as np"
   ]
  },
  {
   "cell_type": "code",
   "execution_count": 2,
   "id": "3312b1cb",
   "metadata": {},
   "outputs": [],
   "source": [
    "data = pd.read_csv('disnakertrans-od_15820_tingkat_penganggur_terbuka_berdasarkan_pendidikan_data.csv')"
   ]
  },
  {
   "cell_type": "code",
   "execution_count": 3,
   "id": "103666bc",
   "metadata": {},
   "outputs": [
    {
     "data": {
      "text/html": [
       "<div>\n",
       "<style scoped>\n",
       "    .dataframe tbody tr th:only-of-type {\n",
       "        vertical-align: middle;\n",
       "    }\n",
       "\n",
       "    .dataframe tbody tr th {\n",
       "        vertical-align: top;\n",
       "    }\n",
       "\n",
       "    .dataframe thead th {\n",
       "        text-align: right;\n",
       "    }\n",
       "</style>\n",
       "<table border=\"1\" class=\"dataframe\">\n",
       "  <thead>\n",
       "    <tr style=\"text-align: right;\">\n",
       "      <th></th>\n",
       "      <th>id</th>\n",
       "      <th>kode_provinsi</th>\n",
       "      <th>nama_provinsi</th>\n",
       "      <th>pendidikan</th>\n",
       "      <th>tingkat_penganggur_terbuka</th>\n",
       "      <th>satuan</th>\n",
       "      <th>tahun</th>\n",
       "    </tr>\n",
       "  </thead>\n",
       "  <tbody>\n",
       "    <tr>\n",
       "      <th>0</th>\n",
       "      <td>1</td>\n",
       "      <td>32</td>\n",
       "      <td>JAWA BARAT</td>\n",
       "      <td>SD KEBAWAH</td>\n",
       "      <td>6.51</td>\n",
       "      <td>JIWA</td>\n",
       "      <td>2011</td>\n",
       "    </tr>\n",
       "    <tr>\n",
       "      <th>1</th>\n",
       "      <td>2</td>\n",
       "      <td>32</td>\n",
       "      <td>JAWA BARAT</td>\n",
       "      <td>SMTP</td>\n",
       "      <td>13.50</td>\n",
       "      <td>JIWA</td>\n",
       "      <td>2011</td>\n",
       "    </tr>\n",
       "    <tr>\n",
       "      <th>2</th>\n",
       "      <td>3</td>\n",
       "      <td>32</td>\n",
       "      <td>JAWA BARAT</td>\n",
       "      <td>SMTA UMUM</td>\n",
       "      <td>13.84</td>\n",
       "      <td>JIWA</td>\n",
       "      <td>2011</td>\n",
       "    </tr>\n",
       "    <tr>\n",
       "      <th>3</th>\n",
       "      <td>4</td>\n",
       "      <td>32</td>\n",
       "      <td>JAWA BARAT</td>\n",
       "      <td>SMTA KEJURUAN</td>\n",
       "      <td>14.08</td>\n",
       "      <td>JIWA</td>\n",
       "      <td>2011</td>\n",
       "    </tr>\n",
       "    <tr>\n",
       "      <th>4</th>\n",
       "      <td>5</td>\n",
       "      <td>32</td>\n",
       "      <td>JAWA BARAT</td>\n",
       "      <td>DIPLOMA I/II/III/AKADEMI</td>\n",
       "      <td>10.18</td>\n",
       "      <td>JIWA</td>\n",
       "      <td>2011</td>\n",
       "    </tr>\n",
       "    <tr>\n",
       "      <th>5</th>\n",
       "      <td>6</td>\n",
       "      <td>32</td>\n",
       "      <td>JAWA BARAT</td>\n",
       "      <td>UNIVERSITAS</td>\n",
       "      <td>9.54</td>\n",
       "      <td>JIWA</td>\n",
       "      <td>2011</td>\n",
       "    </tr>\n",
       "    <tr>\n",
       "      <th>6</th>\n",
       "      <td>7</td>\n",
       "      <td>32</td>\n",
       "      <td>JAWA BARAT</td>\n",
       "      <td>SD KEBAWAH</td>\n",
       "      <td>6.30</td>\n",
       "      <td>JIWA</td>\n",
       "      <td>2012</td>\n",
       "    </tr>\n",
       "    <tr>\n",
       "      <th>7</th>\n",
       "      <td>8</td>\n",
       "      <td>32</td>\n",
       "      <td>JAWA BARAT</td>\n",
       "      <td>SMTP</td>\n",
       "      <td>13.35</td>\n",
       "      <td>JIWA</td>\n",
       "      <td>2012</td>\n",
       "    </tr>\n",
       "    <tr>\n",
       "      <th>8</th>\n",
       "      <td>9</td>\n",
       "      <td>32</td>\n",
       "      <td>JAWA BARAT</td>\n",
       "      <td>SMTA UMUM</td>\n",
       "      <td>11.81</td>\n",
       "      <td>JIWA</td>\n",
       "      <td>2012</td>\n",
       "    </tr>\n",
       "    <tr>\n",
       "      <th>9</th>\n",
       "      <td>10</td>\n",
       "      <td>32</td>\n",
       "      <td>JAWA BARAT</td>\n",
       "      <td>SMTA KEJURUAN</td>\n",
       "      <td>14.24</td>\n",
       "      <td>JIWA</td>\n",
       "      <td>2012</td>\n",
       "    </tr>\n",
       "    <tr>\n",
       "      <th>10</th>\n",
       "      <td>11</td>\n",
       "      <td>32</td>\n",
       "      <td>JAWA BARAT</td>\n",
       "      <td>DIPLOMA I/II/III/AKADEMI</td>\n",
       "      <td>7.24</td>\n",
       "      <td>JIWA</td>\n",
       "      <td>2012</td>\n",
       "    </tr>\n",
       "    <tr>\n",
       "      <th>11</th>\n",
       "      <td>12</td>\n",
       "      <td>32</td>\n",
       "      <td>JAWA BARAT</td>\n",
       "      <td>UNIVERSITAS</td>\n",
       "      <td>4.45</td>\n",
       "      <td>JIWA</td>\n",
       "      <td>2012</td>\n",
       "    </tr>\n",
       "    <tr>\n",
       "      <th>12</th>\n",
       "      <td>13</td>\n",
       "      <td>32</td>\n",
       "      <td>JAWA BARAT</td>\n",
       "      <td>SD KEBAWAH</td>\n",
       "      <td>6.29</td>\n",
       "      <td>JIWA</td>\n",
       "      <td>2013</td>\n",
       "    </tr>\n",
       "    <tr>\n",
       "      <th>13</th>\n",
       "      <td>14</td>\n",
       "      <td>32</td>\n",
       "      <td>JAWA BARAT</td>\n",
       "      <td>SMTP</td>\n",
       "      <td>13.53</td>\n",
       "      <td>JIWA</td>\n",
       "      <td>2013</td>\n",
       "    </tr>\n",
       "    <tr>\n",
       "      <th>14</th>\n",
       "      <td>15</td>\n",
       "      <td>32</td>\n",
       "      <td>JAWA BARAT</td>\n",
       "      <td>SMTA UMUM</td>\n",
       "      <td>11.94</td>\n",
       "      <td>JIWA</td>\n",
       "      <td>2013</td>\n",
       "    </tr>\n",
       "    <tr>\n",
       "      <th>15</th>\n",
       "      <td>16</td>\n",
       "      <td>32</td>\n",
       "      <td>JAWA BARAT</td>\n",
       "      <td>SMTA KEJURUAN</td>\n",
       "      <td>13.79</td>\n",
       "      <td>JIWA</td>\n",
       "      <td>2013</td>\n",
       "    </tr>\n",
       "    <tr>\n",
       "      <th>16</th>\n",
       "      <td>17</td>\n",
       "      <td>32</td>\n",
       "      <td>JAWA BARAT</td>\n",
       "      <td>DIPLOMA I/II/III/AKADEMI</td>\n",
       "      <td>6.10</td>\n",
       "      <td>JIWA</td>\n",
       "      <td>2013</td>\n",
       "    </tr>\n",
       "    <tr>\n",
       "      <th>17</th>\n",
       "      <td>18</td>\n",
       "      <td>32</td>\n",
       "      <td>JAWA BARAT</td>\n",
       "      <td>UNIVERSITAS</td>\n",
       "      <td>5.17</td>\n",
       "      <td>JIWA</td>\n",
       "      <td>2013</td>\n",
       "    </tr>\n",
       "    <tr>\n",
       "      <th>18</th>\n",
       "      <td>19</td>\n",
       "      <td>32</td>\n",
       "      <td>JAWA BARAT</td>\n",
       "      <td>SD KEBAWAH</td>\n",
       "      <td>4.48</td>\n",
       "      <td>JIWA</td>\n",
       "      <td>2014</td>\n",
       "    </tr>\n",
       "    <tr>\n",
       "      <th>19</th>\n",
       "      <td>20</td>\n",
       "      <td>32</td>\n",
       "      <td>JAWA BARAT</td>\n",
       "      <td>SMTP</td>\n",
       "      <td>12.08</td>\n",
       "      <td>JIWA</td>\n",
       "      <td>2014</td>\n",
       "    </tr>\n",
       "    <tr>\n",
       "      <th>20</th>\n",
       "      <td>21</td>\n",
       "      <td>32</td>\n",
       "      <td>JAWA BARAT</td>\n",
       "      <td>SMTA UMUM</td>\n",
       "      <td>13.70</td>\n",
       "      <td>JIWA</td>\n",
       "      <td>2014</td>\n",
       "    </tr>\n",
       "    <tr>\n",
       "      <th>21</th>\n",
       "      <td>22</td>\n",
       "      <td>32</td>\n",
       "      <td>JAWA BARAT</td>\n",
       "      <td>SMTA KEJURUAN</td>\n",
       "      <td>15.18</td>\n",
       "      <td>JIWA</td>\n",
       "      <td>2014</td>\n",
       "    </tr>\n",
       "    <tr>\n",
       "      <th>22</th>\n",
       "      <td>23</td>\n",
       "      <td>32</td>\n",
       "      <td>JAWA BARAT</td>\n",
       "      <td>DIPLOMA I/II/III/AKADEMI</td>\n",
       "      <td>6.18</td>\n",
       "      <td>JIWA</td>\n",
       "      <td>2014</td>\n",
       "    </tr>\n",
       "    <tr>\n",
       "      <th>23</th>\n",
       "      <td>24</td>\n",
       "      <td>32</td>\n",
       "      <td>JAWA BARAT</td>\n",
       "      <td>UNIVERSITAS</td>\n",
       "      <td>4.19</td>\n",
       "      <td>JIWA</td>\n",
       "      <td>2014</td>\n",
       "    </tr>\n",
       "    <tr>\n",
       "      <th>24</th>\n",
       "      <td>25</td>\n",
       "      <td>32</td>\n",
       "      <td>JAWA BARAT</td>\n",
       "      <td>SD KEBAWAH</td>\n",
       "      <td>4.91</td>\n",
       "      <td>JIWA</td>\n",
       "      <td>2015</td>\n",
       "    </tr>\n",
       "    <tr>\n",
       "      <th>25</th>\n",
       "      <td>26</td>\n",
       "      <td>32</td>\n",
       "      <td>JAWA BARAT</td>\n",
       "      <td>SMTP</td>\n",
       "      <td>10.87</td>\n",
       "      <td>JIWA</td>\n",
       "      <td>2015</td>\n",
       "    </tr>\n",
       "    <tr>\n",
       "      <th>26</th>\n",
       "      <td>27</td>\n",
       "      <td>32</td>\n",
       "      <td>JAWA BARAT</td>\n",
       "      <td>SMTA UMUM</td>\n",
       "      <td>12.21</td>\n",
       "      <td>JIWA</td>\n",
       "      <td>2015</td>\n",
       "    </tr>\n",
       "    <tr>\n",
       "      <th>27</th>\n",
       "      <td>28</td>\n",
       "      <td>32</td>\n",
       "      <td>JAWA BARAT</td>\n",
       "      <td>SMTA KEJURUAN</td>\n",
       "      <td>16.80</td>\n",
       "      <td>JIWA</td>\n",
       "      <td>2015</td>\n",
       "    </tr>\n",
       "    <tr>\n",
       "      <th>28</th>\n",
       "      <td>29</td>\n",
       "      <td>32</td>\n",
       "      <td>JAWA BARAT</td>\n",
       "      <td>DIPLOMA I/II/III/AKADEMI</td>\n",
       "      <td>7.59</td>\n",
       "      <td>JIWA</td>\n",
       "      <td>2015</td>\n",
       "    </tr>\n",
       "    <tr>\n",
       "      <th>29</th>\n",
       "      <td>30</td>\n",
       "      <td>32</td>\n",
       "      <td>JAWA BARAT</td>\n",
       "      <td>UNIVERSITAS</td>\n",
       "      <td>5.38</td>\n",
       "      <td>JIWA</td>\n",
       "      <td>2015</td>\n",
       "    </tr>\n",
       "    <tr>\n",
       "      <th>30</th>\n",
       "      <td>31</td>\n",
       "      <td>32</td>\n",
       "      <td>JAWA BARAT</td>\n",
       "      <td>SD KEBAWAH</td>\n",
       "      <td>5.87</td>\n",
       "      <td>JIWA</td>\n",
       "      <td>2016</td>\n",
       "    </tr>\n",
       "    <tr>\n",
       "      <th>31</th>\n",
       "      <td>32</td>\n",
       "      <td>32</td>\n",
       "      <td>JAWA BARAT</td>\n",
       "      <td>SMTP</td>\n",
       "      <td>10.52</td>\n",
       "      <td>JIWA</td>\n",
       "      <td>2016</td>\n",
       "    </tr>\n",
       "    <tr>\n",
       "      <th>32</th>\n",
       "      <td>33</td>\n",
       "      <td>32</td>\n",
       "      <td>JAWA BARAT</td>\n",
       "      <td>SMTA UMUM</td>\n",
       "      <td>11.40</td>\n",
       "      <td>JIWA</td>\n",
       "      <td>2016</td>\n",
       "    </tr>\n",
       "    <tr>\n",
       "      <th>33</th>\n",
       "      <td>34</td>\n",
       "      <td>32</td>\n",
       "      <td>JAWA BARAT</td>\n",
       "      <td>SMTA KEJURUAN</td>\n",
       "      <td>16.51</td>\n",
       "      <td>JIWA</td>\n",
       "      <td>2016</td>\n",
       "    </tr>\n",
       "    <tr>\n",
       "      <th>34</th>\n",
       "      <td>35</td>\n",
       "      <td>32</td>\n",
       "      <td>JAWA BARAT</td>\n",
       "      <td>DIPLOMA I/II/III/AKADEMI</td>\n",
       "      <td>8.26</td>\n",
       "      <td>JIWA</td>\n",
       "      <td>2016</td>\n",
       "    </tr>\n",
       "    <tr>\n",
       "      <th>35</th>\n",
       "      <td>36</td>\n",
       "      <td>32</td>\n",
       "      <td>JAWA BARAT</td>\n",
       "      <td>UNIVERSITAS</td>\n",
       "      <td>4.63</td>\n",
       "      <td>JIWA</td>\n",
       "      <td>2016</td>\n",
       "    </tr>\n",
       "    <tr>\n",
       "      <th>36</th>\n",
       "      <td>37</td>\n",
       "      <td>32</td>\n",
       "      <td>JAWA BARAT</td>\n",
       "      <td>SD KEBAWAH</td>\n",
       "      <td>4.30</td>\n",
       "      <td>JIWA</td>\n",
       "      <td>2017</td>\n",
       "    </tr>\n",
       "    <tr>\n",
       "      <th>37</th>\n",
       "      <td>38</td>\n",
       "      <td>32</td>\n",
       "      <td>JAWA BARAT</td>\n",
       "      <td>SMTP</td>\n",
       "      <td>9.68</td>\n",
       "      <td>JIWA</td>\n",
       "      <td>2017</td>\n",
       "    </tr>\n",
       "    <tr>\n",
       "      <th>38</th>\n",
       "      <td>39</td>\n",
       "      <td>32</td>\n",
       "      <td>JAWA BARAT</td>\n",
       "      <td>SMTA UMUM</td>\n",
       "      <td>10.03</td>\n",
       "      <td>JIWA</td>\n",
       "      <td>2017</td>\n",
       "    </tr>\n",
       "    <tr>\n",
       "      <th>39</th>\n",
       "      <td>40</td>\n",
       "      <td>32</td>\n",
       "      <td>JAWA BARAT</td>\n",
       "      <td>SMTA KEJURUAN</td>\n",
       "      <td>16.80</td>\n",
       "      <td>JIWA</td>\n",
       "      <td>2017</td>\n",
       "    </tr>\n",
       "    <tr>\n",
       "      <th>40</th>\n",
       "      <td>41</td>\n",
       "      <td>32</td>\n",
       "      <td>JAWA BARAT</td>\n",
       "      <td>DIPLOMA I/II/III/AKADEMI</td>\n",
       "      <td>9.51</td>\n",
       "      <td>JIWA</td>\n",
       "      <td>2017</td>\n",
       "    </tr>\n",
       "    <tr>\n",
       "      <th>41</th>\n",
       "      <td>42</td>\n",
       "      <td>32</td>\n",
       "      <td>JAWA BARAT</td>\n",
       "      <td>UNIVERSITAS</td>\n",
       "      <td>5.50</td>\n",
       "      <td>JIWA</td>\n",
       "      <td>2017</td>\n",
       "    </tr>\n",
       "    <tr>\n",
       "      <th>42</th>\n",
       "      <td>43</td>\n",
       "      <td>32</td>\n",
       "      <td>JAWA BARAT</td>\n",
       "      <td>SD KEBAWAH</td>\n",
       "      <td>4.48</td>\n",
       "      <td>JIWA</td>\n",
       "      <td>2018</td>\n",
       "    </tr>\n",
       "    <tr>\n",
       "      <th>43</th>\n",
       "      <td>44</td>\n",
       "      <td>32</td>\n",
       "      <td>JAWA BARAT</td>\n",
       "      <td>SMTP</td>\n",
       "      <td>8.02</td>\n",
       "      <td>JIWA</td>\n",
       "      <td>2018</td>\n",
       "    </tr>\n",
       "    <tr>\n",
       "      <th>44</th>\n",
       "      <td>45</td>\n",
       "      <td>32</td>\n",
       "      <td>JAWA BARAT</td>\n",
       "      <td>SMTA UMUM</td>\n",
       "      <td>9.78</td>\n",
       "      <td>JIWA</td>\n",
       "      <td>2018</td>\n",
       "    </tr>\n",
       "    <tr>\n",
       "      <th>45</th>\n",
       "      <td>46</td>\n",
       "      <td>32</td>\n",
       "      <td>JAWA BARAT</td>\n",
       "      <td>SMTA KEJURUAN</td>\n",
       "      <td>16.97</td>\n",
       "      <td>JIWA</td>\n",
       "      <td>2018</td>\n",
       "    </tr>\n",
       "    <tr>\n",
       "      <th>46</th>\n",
       "      <td>47</td>\n",
       "      <td>32</td>\n",
       "      <td>JAWA BARAT</td>\n",
       "      <td>DIPLOMA I/II/III/AKADEMI</td>\n",
       "      <td>6.93</td>\n",
       "      <td>JIWA</td>\n",
       "      <td>2018</td>\n",
       "    </tr>\n",
       "    <tr>\n",
       "      <th>47</th>\n",
       "      <td>48</td>\n",
       "      <td>32</td>\n",
       "      <td>JAWA BARAT</td>\n",
       "      <td>UNIVERSITAS</td>\n",
       "      <td>6.37</td>\n",
       "      <td>JIWA</td>\n",
       "      <td>2018</td>\n",
       "    </tr>\n",
       "  </tbody>\n",
       "</table>\n",
       "</div>"
      ],
      "text/plain": [
       "    id  kode_provinsi nama_provinsi                pendidikan  \\\n",
       "0    1             32    JAWA BARAT                SD KEBAWAH   \n",
       "1    2             32    JAWA BARAT                      SMTP   \n",
       "2    3             32    JAWA BARAT                 SMTA UMUM   \n",
       "3    4             32    JAWA BARAT             SMTA KEJURUAN   \n",
       "4    5             32    JAWA BARAT  DIPLOMA I/II/III/AKADEMI   \n",
       "5    6             32    JAWA BARAT               UNIVERSITAS   \n",
       "6    7             32    JAWA BARAT                SD KEBAWAH   \n",
       "7    8             32    JAWA BARAT                      SMTP   \n",
       "8    9             32    JAWA BARAT                 SMTA UMUM   \n",
       "9   10             32    JAWA BARAT             SMTA KEJURUAN   \n",
       "10  11             32    JAWA BARAT  DIPLOMA I/II/III/AKADEMI   \n",
       "11  12             32    JAWA BARAT               UNIVERSITAS   \n",
       "12  13             32    JAWA BARAT                SD KEBAWAH   \n",
       "13  14             32    JAWA BARAT                      SMTP   \n",
       "14  15             32    JAWA BARAT                 SMTA UMUM   \n",
       "15  16             32    JAWA BARAT             SMTA KEJURUAN   \n",
       "16  17             32    JAWA BARAT  DIPLOMA I/II/III/AKADEMI   \n",
       "17  18             32    JAWA BARAT               UNIVERSITAS   \n",
       "18  19             32    JAWA BARAT                SD KEBAWAH   \n",
       "19  20             32    JAWA BARAT                      SMTP   \n",
       "20  21             32    JAWA BARAT                 SMTA UMUM   \n",
       "21  22             32    JAWA BARAT             SMTA KEJURUAN   \n",
       "22  23             32    JAWA BARAT  DIPLOMA I/II/III/AKADEMI   \n",
       "23  24             32    JAWA BARAT               UNIVERSITAS   \n",
       "24  25             32    JAWA BARAT                SD KEBAWAH   \n",
       "25  26             32    JAWA BARAT                      SMTP   \n",
       "26  27             32    JAWA BARAT                 SMTA UMUM   \n",
       "27  28             32    JAWA BARAT             SMTA KEJURUAN   \n",
       "28  29             32    JAWA BARAT  DIPLOMA I/II/III/AKADEMI   \n",
       "29  30             32    JAWA BARAT               UNIVERSITAS   \n",
       "30  31             32    JAWA BARAT                SD KEBAWAH   \n",
       "31  32             32    JAWA BARAT                      SMTP   \n",
       "32  33             32    JAWA BARAT                 SMTA UMUM   \n",
       "33  34             32    JAWA BARAT             SMTA KEJURUAN   \n",
       "34  35             32    JAWA BARAT  DIPLOMA I/II/III/AKADEMI   \n",
       "35  36             32    JAWA BARAT               UNIVERSITAS   \n",
       "36  37             32    JAWA BARAT                SD KEBAWAH   \n",
       "37  38             32    JAWA BARAT                      SMTP   \n",
       "38  39             32    JAWA BARAT                 SMTA UMUM   \n",
       "39  40             32    JAWA BARAT             SMTA KEJURUAN   \n",
       "40  41             32    JAWA BARAT  DIPLOMA I/II/III/AKADEMI   \n",
       "41  42             32    JAWA BARAT               UNIVERSITAS   \n",
       "42  43             32    JAWA BARAT                SD KEBAWAH   \n",
       "43  44             32    JAWA BARAT                      SMTP   \n",
       "44  45             32    JAWA BARAT                 SMTA UMUM   \n",
       "45  46             32    JAWA BARAT             SMTA KEJURUAN   \n",
       "46  47             32    JAWA BARAT  DIPLOMA I/II/III/AKADEMI   \n",
       "47  48             32    JAWA BARAT               UNIVERSITAS   \n",
       "\n",
       "    tingkat_penganggur_terbuka satuan  tahun  \n",
       "0                         6.51   JIWA   2011  \n",
       "1                        13.50   JIWA   2011  \n",
       "2                        13.84   JIWA   2011  \n",
       "3                        14.08   JIWA   2011  \n",
       "4                        10.18   JIWA   2011  \n",
       "5                         9.54   JIWA   2011  \n",
       "6                         6.30   JIWA   2012  \n",
       "7                        13.35   JIWA   2012  \n",
       "8                        11.81   JIWA   2012  \n",
       "9                        14.24   JIWA   2012  \n",
       "10                        7.24   JIWA   2012  \n",
       "11                        4.45   JIWA   2012  \n",
       "12                        6.29   JIWA   2013  \n",
       "13                       13.53   JIWA   2013  \n",
       "14                       11.94   JIWA   2013  \n",
       "15                       13.79   JIWA   2013  \n",
       "16                        6.10   JIWA   2013  \n",
       "17                        5.17   JIWA   2013  \n",
       "18                        4.48   JIWA   2014  \n",
       "19                       12.08   JIWA   2014  \n",
       "20                       13.70   JIWA   2014  \n",
       "21                       15.18   JIWA   2014  \n",
       "22                        6.18   JIWA   2014  \n",
       "23                        4.19   JIWA   2014  \n",
       "24                        4.91   JIWA   2015  \n",
       "25                       10.87   JIWA   2015  \n",
       "26                       12.21   JIWA   2015  \n",
       "27                       16.80   JIWA   2015  \n",
       "28                        7.59   JIWA   2015  \n",
       "29                        5.38   JIWA   2015  \n",
       "30                        5.87   JIWA   2016  \n",
       "31                       10.52   JIWA   2016  \n",
       "32                       11.40   JIWA   2016  \n",
       "33                       16.51   JIWA   2016  \n",
       "34                        8.26   JIWA   2016  \n",
       "35                        4.63   JIWA   2016  \n",
       "36                        4.30   JIWA   2017  \n",
       "37                        9.68   JIWA   2017  \n",
       "38                       10.03   JIWA   2017  \n",
       "39                       16.80   JIWA   2017  \n",
       "40                        9.51   JIWA   2017  \n",
       "41                        5.50   JIWA   2017  \n",
       "42                        4.48   JIWA   2018  \n",
       "43                        8.02   JIWA   2018  \n",
       "44                        9.78   JIWA   2018  \n",
       "45                       16.97   JIWA   2018  \n",
       "46                        6.93   JIWA   2018  \n",
       "47                        6.37   JIWA   2018  "
      ]
     },
     "execution_count": 3,
     "metadata": {},
     "output_type": "execute_result"
    }
   ],
   "source": [
    "data"
   ]
  },
  {
   "cell_type": "code",
   "execution_count": 50,
   "id": "05e3ca99",
   "metadata": {},
   "outputs": [],
   "source": [
    "data= data.drop(['kode_provinsi'], axis=1)"
   ]
  },
  {
   "cell_type": "code",
   "execution_count": 51,
   "id": "90d3a7b0",
   "metadata": {},
   "outputs": [
    {
     "data": {
      "text/plain": [
       "id                            0\n",
       "nama_provinsi                 0\n",
       "pendidikan                    0\n",
       "tingkat_penganggur_terbuka    0\n",
       "satuan                        0\n",
       "tahun                         0\n",
       "dtype: int64"
      ]
     },
     "execution_count": 51,
     "metadata": {},
     "output_type": "execute_result"
    }
   ],
   "source": [
    "data.isna(). sum()"
   ]
  },
  {
   "cell_type": "code",
   "execution_count": 52,
   "id": "b0cb50ea",
   "metadata": {},
   "outputs": [
    {
     "data": {
      "text/plain": [
       "0"
      ]
     },
     "execution_count": 52,
     "metadata": {},
     "output_type": "execute_result"
    }
   ],
   "source": [
    "data.duplicated().sum()"
   ]
  },
  {
   "cell_type": "code",
   "execution_count": 53,
   "id": "af20fbc2",
   "metadata": {},
   "outputs": [
    {
     "name": "stdout",
     "output_type": "stream",
     "text": [
      "<class 'pandas.core.frame.DataFrame'>\n",
      "RangeIndex: 48 entries, 0 to 47\n",
      "Data columns (total 6 columns):\n",
      " #   Column                      Non-Null Count  Dtype   \n",
      "---  ------                      --------------  -----   \n",
      " 0   id                          48 non-null     int64   \n",
      " 1   nama_provinsi               48 non-null     category\n",
      " 2   pendidikan                  48 non-null     category\n",
      " 3   tingkat_penganggur_terbuka  48 non-null     float64 \n",
      " 4   satuan                      48 non-null     category\n",
      " 5   tahun                       48 non-null     int64   \n",
      "dtypes: category(3), float64(1), int64(2)\n",
      "memory usage: 1.8 KB\n"
     ]
    }
   ],
   "source": [
    "data.info()"
   ]
  },
  {
   "cell_type": "markdown",
   "id": "426bbe37",
   "metadata": {},
   "source": [
    "**Statistik**"
   ]
  },
  {
   "cell_type": "code",
   "execution_count": 57,
   "id": "3cf05517",
   "metadata": {},
   "outputs": [
    {
     "data": {
      "text/html": [
       "<div>\n",
       "<style scoped>\n",
       "    .dataframe tbody tr th:only-of-type {\n",
       "        vertical-align: middle;\n",
       "    }\n",
       "\n",
       "    .dataframe tbody tr th {\n",
       "        vertical-align: top;\n",
       "    }\n",
       "\n",
       "    .dataframe thead th {\n",
       "        text-align: right;\n",
       "    }\n",
       "</style>\n",
       "<table border=\"1\" class=\"dataframe\">\n",
       "  <thead>\n",
       "    <tr style=\"text-align: right;\">\n",
       "      <th></th>\n",
       "      <th>nama_provinsi</th>\n",
       "      <th>pendidikan</th>\n",
       "      <th>satuan</th>\n",
       "    </tr>\n",
       "  </thead>\n",
       "  <tbody>\n",
       "    <tr>\n",
       "      <th>count</th>\n",
       "      <td>48</td>\n",
       "      <td>48</td>\n",
       "      <td>48</td>\n",
       "    </tr>\n",
       "    <tr>\n",
       "      <th>unique</th>\n",
       "      <td>1</td>\n",
       "      <td>6</td>\n",
       "      <td>1</td>\n",
       "    </tr>\n",
       "    <tr>\n",
       "      <th>top</th>\n",
       "      <td>JAWA BARAT</td>\n",
       "      <td>SD KEBAWAH</td>\n",
       "      <td>JIWA</td>\n",
       "    </tr>\n",
       "    <tr>\n",
       "      <th>freq</th>\n",
       "      <td>48</td>\n",
       "      <td>8</td>\n",
       "      <td>48</td>\n",
       "    </tr>\n",
       "  </tbody>\n",
       "</table>\n",
       "</div>"
      ],
      "text/plain": [
       "       nama_provinsi  pendidikan satuan\n",
       "count             48          48     48\n",
       "unique             1           6      1\n",
       "top       JAWA BARAT  SD KEBAWAH   JIWA\n",
       "freq              48           8     48"
      ]
     },
     "execution_count": 57,
     "metadata": {},
     "output_type": "execute_result"
    }
   ],
   "source": [
    "data.describe(include='object')"
   ]
  },
  {
   "cell_type": "markdown",
   "id": "41b512ee",
   "metadata": {},
   "source": [
    "Tingkat pendidikan terbanyak yang berpengaruh terhadap pengangguran adalah pendidikan SD KEBAWAH"
   ]
  },
  {
   "cell_type": "code",
   "execution_count": 58,
   "id": "fd77d6f4",
   "metadata": {},
   "outputs": [
    {
     "data": {
      "text/html": [
       "<div>\n",
       "<style scoped>\n",
       "    .dataframe tbody tr th:only-of-type {\n",
       "        vertical-align: middle;\n",
       "    }\n",
       "\n",
       "    .dataframe tbody tr th {\n",
       "        vertical-align: top;\n",
       "    }\n",
       "\n",
       "    .dataframe thead th {\n",
       "        text-align: right;\n",
       "    }\n",
       "</style>\n",
       "<table border=\"1\" class=\"dataframe\">\n",
       "  <thead>\n",
       "    <tr style=\"text-align: right;\">\n",
       "      <th></th>\n",
       "      <th>count</th>\n",
       "      <th>mean</th>\n",
       "      <th>std</th>\n",
       "      <th>min</th>\n",
       "      <th>25%</th>\n",
       "      <th>50%</th>\n",
       "      <th>75%</th>\n",
       "      <th>max</th>\n",
       "    </tr>\n",
       "  </thead>\n",
       "  <tbody>\n",
       "    <tr>\n",
       "      <th>id</th>\n",
       "      <td>48.0</td>\n",
       "      <td>24.500000</td>\n",
       "      <td>14.000000</td>\n",
       "      <td>1.00</td>\n",
       "      <td>12.75</td>\n",
       "      <td>24.50</td>\n",
       "      <td>36.2500</td>\n",
       "      <td>48.00</td>\n",
       "    </tr>\n",
       "    <tr>\n",
       "      <th>tingkat_penganggur_terbuka</th>\n",
       "      <td>48.0</td>\n",
       "      <td>9.603958</td>\n",
       "      <td>3.976264</td>\n",
       "      <td>4.19</td>\n",
       "      <td>6.16</td>\n",
       "      <td>9.61</td>\n",
       "      <td>13.3875</td>\n",
       "      <td>16.97</td>\n",
       "    </tr>\n",
       "    <tr>\n",
       "      <th>tahun</th>\n",
       "      <td>48.0</td>\n",
       "      <td>2014.500000</td>\n",
       "      <td>2.315535</td>\n",
       "      <td>2011.00</td>\n",
       "      <td>2012.75</td>\n",
       "      <td>2014.50</td>\n",
       "      <td>2016.2500</td>\n",
       "      <td>2018.00</td>\n",
       "    </tr>\n",
       "  </tbody>\n",
       "</table>\n",
       "</div>"
      ],
      "text/plain": [
       "                            count         mean        std      min      25%  \\\n",
       "id                           48.0    24.500000  14.000000     1.00    12.75   \n",
       "tingkat_penganggur_terbuka   48.0     9.603958   3.976264     4.19     6.16   \n",
       "tahun                        48.0  2014.500000   2.315535  2011.00  2012.75   \n",
       "\n",
       "                                50%        75%      max  \n",
       "id                            24.50    36.2500    48.00  \n",
       "tingkat_penganggur_terbuka     9.61    13.3875    16.97  \n",
       "tahun                       2014.50  2016.2500  2018.00  "
      ]
     },
     "execution_count": 58,
     "metadata": {},
     "output_type": "execute_result"
    }
   ],
   "source": [
    "data.describe().T"
   ]
  },
  {
   "cell_type": "markdown",
   "id": "b7c24d2b",
   "metadata": {},
   "source": [
    "Tingkat pengangguran terbuka terbanyak adalah 16.97% pada tahun 2018"
   ]
  },
  {
   "cell_type": "markdown",
   "id": "7b9d4bb9",
   "metadata": {},
   "source": [
    "# Exploratory Data Analyst"
   ]
  },
  {
   "cell_type": "code",
   "execution_count": 64,
   "id": "8e9aee0e",
   "metadata": {},
   "outputs": [
    {
     "data": {
      "text/html": [
       "<div>\n",
       "<style scoped>\n",
       "    .dataframe tbody tr th:only-of-type {\n",
       "        vertical-align: middle;\n",
       "    }\n",
       "\n",
       "    .dataframe tbody tr th {\n",
       "        vertical-align: top;\n",
       "    }\n",
       "\n",
       "    .dataframe thead th {\n",
       "        text-align: right;\n",
       "    }\n",
       "</style>\n",
       "<table border=\"1\" class=\"dataframe\">\n",
       "  <thead>\n",
       "    <tr style=\"text-align: right;\">\n",
       "      <th></th>\n",
       "      <th>nama_provinsi</th>\n",
       "      <th>pendidikan</th>\n",
       "      <th>tingkat_penganggur_terbuka</th>\n",
       "      <th>satuan</th>\n",
       "      <th>tahun</th>\n",
       "    </tr>\n",
       "  </thead>\n",
       "  <tbody>\n",
       "    <tr>\n",
       "      <th>0</th>\n",
       "      <td>JAWA BARAT</td>\n",
       "      <td>SD KEBAWAH</td>\n",
       "      <td>6.51</td>\n",
       "      <td>JIWA</td>\n",
       "      <td>2011</td>\n",
       "    </tr>\n",
       "    <tr>\n",
       "      <th>1</th>\n",
       "      <td>JAWA BARAT</td>\n",
       "      <td>SMTP</td>\n",
       "      <td>13.50</td>\n",
       "      <td>JIWA</td>\n",
       "      <td>2011</td>\n",
       "    </tr>\n",
       "    <tr>\n",
       "      <th>2</th>\n",
       "      <td>JAWA BARAT</td>\n",
       "      <td>SMTA UMUM</td>\n",
       "      <td>13.84</td>\n",
       "      <td>JIWA</td>\n",
       "      <td>2011</td>\n",
       "    </tr>\n",
       "    <tr>\n",
       "      <th>3</th>\n",
       "      <td>JAWA BARAT</td>\n",
       "      <td>SMTA KEJURUAN</td>\n",
       "      <td>14.08</td>\n",
       "      <td>JIWA</td>\n",
       "      <td>2011</td>\n",
       "    </tr>\n",
       "    <tr>\n",
       "      <th>4</th>\n",
       "      <td>JAWA BARAT</td>\n",
       "      <td>DIPLOMA I/II/III/AKADEMI</td>\n",
       "      <td>10.18</td>\n",
       "      <td>JIWA</td>\n",
       "      <td>2011</td>\n",
       "    </tr>\n",
       "  </tbody>\n",
       "</table>\n",
       "</div>"
      ],
      "text/plain": [
       "  nama_provinsi                pendidikan  tingkat_penganggur_terbuka satuan  \\\n",
       "0    JAWA BARAT                SD KEBAWAH                        6.51   JIWA   \n",
       "1    JAWA BARAT                      SMTP                       13.50   JIWA   \n",
       "2    JAWA BARAT                 SMTA UMUM                       13.84   JIWA   \n",
       "3    JAWA BARAT             SMTA KEJURUAN                       14.08   JIWA   \n",
       "4    JAWA BARAT  DIPLOMA I/II/III/AKADEMI                       10.18   JIWA   \n",
       "\n",
       "   tahun  \n",
       "0   2011  \n",
       "1   2011  \n",
       "2   2011  \n",
       "3   2011  \n",
       "4   2011  "
      ]
     },
     "execution_count": 64,
     "metadata": {},
     "output_type": "execute_result"
    }
   ],
   "source": [
    "data.head()"
   ]
  },
  {
   "cell_type": "code",
   "execution_count": 59,
   "id": "cb7e7e79",
   "metadata": {},
   "outputs": [],
   "source": [
    "for column in data.columns:\n",
    "    if data[column].dtype == 'object':\n",
    "        data[column] = data[column].astype('category')"
   ]
  },
  {
   "cell_type": "code",
   "execution_count": 60,
   "id": "5ba94faf",
   "metadata": {},
   "outputs": [
    {
     "data": {
      "text/plain": [
       "id                               int64\n",
       "nama_provinsi                 category\n",
       "pendidikan                    category\n",
       "tingkat_penganggur_terbuka     float64\n",
       "satuan                        category\n",
       "tahun                            int64\n",
       "dtype: object"
      ]
     },
     "execution_count": 60,
     "metadata": {},
     "output_type": "execute_result"
    }
   ],
   "source": [
    "data.dtypes"
   ]
  },
  {
   "cell_type": "code",
   "execution_count": 61,
   "id": "c9f9cbbc",
   "metadata": {},
   "outputs": [],
   "source": [
    "data=data.drop(['id'], axis=1)"
   ]
  },
  {
   "cell_type": "markdown",
   "id": "d48aacea",
   "metadata": {},
   "source": [
    "**Korelasi Antar Features**"
   ]
  },
  {
   "cell_type": "code",
   "execution_count": 26,
   "id": "1f5ce8ba",
   "metadata": {},
   "outputs": [
    {
     "name": "stderr",
     "output_type": "stream",
     "text": [
      "Matplotlib is building the font cache; this may take a moment.\n"
     ]
    }
   ],
   "source": [
    "import matplotlib.pyplot as plt\n",
    "import seaborn as sns"
   ]
  },
  {
   "cell_type": "code",
   "execution_count": 62,
   "id": "1afd4464",
   "metadata": {},
   "outputs": [],
   "source": [
    "numeric_data = data.select_dtypes(include=[float, int])"
   ]
  },
  {
   "cell_type": "code",
   "execution_count": 63,
   "id": "40c722d7",
   "metadata": {},
   "outputs": [
    {
     "data": {
      "text/plain": [
       "<Axes: >"
      ]
     },
     "execution_count": 63,
     "metadata": {},
     "output_type": "execute_result"
    },
    {
     "data": {
      "image/png": "[encoded data removed]",
      "text/plain": [
       "<Figure size 640x480 with 2 Axes>"
      ]
     },
     "metadata": {},
     "output_type": "display_data"
    }
   ],
   "source": [
    "sns.heatmap(numeric_data.corr(), annot=True, cmap='coolwarm')"
   ]
  },
  {
   "cell_type": "markdown",
   "id": "32cd0a32",
   "metadata": {},
   "source": [
    "# Distribusi of Pendidikan, tingkat_penganggur_terbuka, Tahun"
   ]
  },
  {
   "cell_type": "code",
   "execution_count": 81,
   "id": "892c755d",
   "metadata": {},
   "outputs": [],
   "source": [
    "fatures= data[['pendidikan', 'tingkat_penganggur_terbuka','tahun']]"
   ]
  },
  {
   "cell_type": "code",
   "execution_count": null,
   "id": "d44cc6b7",
   "metadata": {},
   "outputs": [],
   "source": []
  },
  {
   "cell_type": "code",
   "execution_count": 150,
   "id": "e73e2c81",
   "metadata": {},
   "outputs": [
    {
     "data": {
      "image/png": "[encoded data removed]",
      "text/plain": [
       "<Figure size 1000x600 with 1 Axes>"
      ]
     },
     "metadata": {},
     "output_type": "display_data"
    },
    {
     "data": {
      "image/png": "[encoded data removed]",
      "text/plain": [
       "<Figure size 1000x600 with 1 Axes>"
      ]
     },
     "metadata": {},
     "output_type": "display_data"
    },
    {
     "data": {
      "image/png": "[encoded data removed]",
      "text/plain": [
       "<Figure size 1000x600 with 1 Axes>"
      ]
     },
     "metadata": {},
     "output_type": "display_data"
    }
   ],
   "source": [
    "for column in fatures:\n",
    "    plt.figure(figsize=(10,6)) \n",
    "    sns.histplot(x=column, data=fatures, kde=True, color='r')\n",
    "    plt.title(f\" Count Plot for {column}\")\n",
    "    plt.show()"
   ]
  },
  {
   "cell_type": "markdown",
   "id": "b2c2d9f8",
   "metadata": {},
   "source": [
    "Ratio terbanyak dari tingkat pendidikan sama, Kemudian untuk tingkat pengangguran terbanyak ada di 4.48% dan 16.97%, Sedangkan untuk Tahun memiliki ratio yang sama juga"
   ]
  },
  {
   "cell_type": "markdown",
   "id": "f7cad48d",
   "metadata": {},
   "source": [
    "# Hubungan antara tingkat_penganggur_terbuka dengan Tahun terhadap Pendidikan"
   ]
  },
  {
   "cell_type": "code",
   "execution_count": 151,
   "id": "5f86a969",
   "metadata": {},
   "outputs": [
    {
     "name": "stderr",
     "output_type": "stream",
     "text": [
      "C:\\Users\\user\\anaconda3\\Lib\\site-packages\\seaborn\\axisgrid.py:118: UserWarning: The figure layout has changed to tight\n",
      "  self._figure.tight_layout(*args, **kwargs)\n"
     ]
    },
    {
     "data": {
      "image/png": "[encoded data removed]",
      "text/plain": [
       "<Figure size 500x500 with 1 Axes>"
      ]
     },
     "metadata": {},
     "output_type": "display_data"
    }
   ],
   "source": [
    "sns.lmplot(x='tahun', y='tingkat_penganggur_terbuka', data=data, palette='Set1')\n",
    "plt.title('Hubungan Antaara Tahun dengan Tingkat Pengangguran Terbuka')\n",
    "plt.show()"
   ]
  },
  {
   "cell_type": "markdown",
   "id": "c1ef9418",
   "metadata": {},
   "source": [
    "Terdapat tingkat pengagguran tertinggi ditahun rentang 2015 - 2018, dan terendah pada tahun 2014, Serta rata - rata di tingkat pengangguran 9 - 12 %"
   ]
  },
  {
   "cell_type": "code",
   "execution_count": 145,
   "id": "c08be873",
   "metadata": {},
   "outputs": [
    {
     "data": {
      "image/png": "[encoded data removed]",
      "text/plain": [
       "<Figure size 1800x1000 with 1 Axes>"
      ]
     },
     "metadata": {},
     "output_type": "display_data"
    }
   ],
   "source": [
    "plt.figure(figsize=(18,10))\n",
    "sns.barplot(x='tahun',y='tingkat_penganggur_terbuka', hue='pendidikan', data=data, palette='husl')\n",
    "for p in ax.patches:\n",
    "    left, bottom, width, height = p.get_bbox().bounds\n",
    "    plt.annotate(f\"{height:.2f}\", (left+width/2, height), ha='center', va='bottom', color='black', size=12)\n",
    "plt.tight_layout()\n",
    "plt.title('Hubungan Antara Tahun dengan tingkat_penganggur_terbuka terhadap Pendidikan ')\n",
    "plt.show()"
   ]
  },
  {
   "cell_type": "markdown",
   "id": "be18594f",
   "metadata": {},
   "source": [
    "* pada tahun 2011 tingkat pengangguran tertinggi pada tingkat pendidikan SMTA Kejuruan dengan ratio 14.8 % dan terendah pada tingkat SD Kebawah pada ratio 6.51%<br>\n",
    "* pada tahun 2012 tingkat pengangguran tertinggi pada tingkat pendidikan SMTA Kejuruan dengan ratio 14.24 % dan terendah pada tingkat Universitas  pada ratio 4.45%<br>\n",
    "* pada tahun 2013 tingkat pengangguran tertinggi pada tingkat pendidikan SMTA Kejuruan dengan ratio 13.79 % dan terendah pada tingkat Universitas  pada ratio 5.17%<br>\n",
    "* pada tahun 2014 tingkat pengangguran tertinggi pada tingkat pendidikan SMTA Kejuruan dengan ratio 15.18 % dan terendah pada tingkat Universitas pada ratio 4.19%<br>\n",
    "* pada tahun 2015 tingkat pengangguran tertinggi pada tingkat pendidikan SMTA Kejuruan dengan ratio 16.80 % dan terendah pada tingkat SD Kebawah pada ratio 4.91%<br>\n",
    "* pada tahun 2016 tingkat pengangguran tertinggi pada tingkat pendidikan SMTA Kejuruan dengan ratio 16.51 % dan terendah pada tingkat Universitas pada ratio 4.63%%<br>\n",
    "* pada tahun 2017 tingkat pengangguran tertinggi pada tingkat pendidikan SMTA Kejuruan dengan ratio 16.80 % dan terendah pada tingkat SD Kebawah pada ratio 4.30%%<br>\n",
    "* pada tahun 2018 tingkat pengangguran tertinggi pada tingkat pendidikan SMTA Kejuruan dengan ratio 16.97 % dan terendah pada tingkat SD Kebawah pada ratio 4.48%%<br>\n"
   ]
  },
  {
   "cell_type": "markdown",
   "id": "950a6f3d",
   "metadata": {},
   "source": [
    "# Features Engineering"
   ]
  },
  {
   "cell_type": "code",
   "execution_count": 153,
   "id": "38a363b6",
   "metadata": {},
   "outputs": [],
   "source": [
    "data =data.drop(['nama_provinsi','satuan'], axis=1)"
   ]
  },
  {
   "cell_type": "code",
   "execution_count": 154,
   "id": "7c0e136c",
   "metadata": {},
   "outputs": [
    {
     "data": {
      "text/html": [
       "<div>\n",
       "<style scoped>\n",
       "    .dataframe tbody tr th:only-of-type {\n",
       "        vertical-align: middle;\n",
       "    }\n",
       "\n",
       "    .dataframe tbody tr th {\n",
       "        vertical-align: top;\n",
       "    }\n",
       "\n",
       "    .dataframe thead th {\n",
       "        text-align: right;\n",
       "    }\n",
       "</style>\n",
       "<table border=\"1\" class=\"dataframe\">\n",
       "  <thead>\n",
       "    <tr style=\"text-align: right;\">\n",
       "      <th></th>\n",
       "      <th>pendidikan</th>\n",
       "      <th>tingkat_penganggur_terbuka</th>\n",
       "      <th>tahun</th>\n",
       "    </tr>\n",
       "  </thead>\n",
       "  <tbody>\n",
       "    <tr>\n",
       "      <th>0</th>\n",
       "      <td>SD KEBAWAH</td>\n",
       "      <td>6.51</td>\n",
       "      <td>2011</td>\n",
       "    </tr>\n",
       "    <tr>\n",
       "      <th>1</th>\n",
       "      <td>SMTP</td>\n",
       "      <td>13.50</td>\n",
       "      <td>2011</td>\n",
       "    </tr>\n",
       "    <tr>\n",
       "      <th>2</th>\n",
       "      <td>SMTA UMUM</td>\n",
       "      <td>13.84</td>\n",
       "      <td>2011</td>\n",
       "    </tr>\n",
       "    <tr>\n",
       "      <th>3</th>\n",
       "      <td>SMTA KEJURUAN</td>\n",
       "      <td>14.08</td>\n",
       "      <td>2011</td>\n",
       "    </tr>\n",
       "    <tr>\n",
       "      <th>4</th>\n",
       "      <td>DIPLOMA I/II/III/AKADEMI</td>\n",
       "      <td>10.18</td>\n",
       "      <td>2011</td>\n",
       "    </tr>\n",
       "  </tbody>\n",
       "</table>\n",
       "</div>"
      ],
      "text/plain": [
       "                 pendidikan  tingkat_penganggur_terbuka  tahun\n",
       "0                SD KEBAWAH                        6.51   2011\n",
       "1                      SMTP                       13.50   2011\n",
       "2                 SMTA UMUM                       13.84   2011\n",
       "3             SMTA KEJURUAN                       14.08   2011\n",
       "4  DIPLOMA I/II/III/AKADEMI                       10.18   2011"
      ]
     },
     "execution_count": 154,
     "metadata": {},
     "output_type": "execute_result"
    }
   ],
   "source": [
    "data.head()"
   ]
  },
  {
   "cell_type": "code",
   "execution_count": 162,
   "id": "54811700",
   "metadata": {},
   "outputs": [],
   "source": [
    "respon= data['tingkat_penganggur_terbuka']\n",
    "df = data.drop(['tingkat_penganggur_terbuka'], axis =1)\n"
   ]
  },
  {
   "cell_type": "code",
   "execution_count": 178,
   "id": "18ecf6fc",
   "metadata": {},
   "outputs": [],
   "source": [
    "from sklearn.preprocessing import LabelEncoder"
   ]
  },
  {
   "cell_type": "code",
   "execution_count": 180,
   "id": "11e34d5d",
   "metadata": {},
   "outputs": [],
   "source": [
    "le=LabelEncoder()\n",
    "df['pendidikan'] = le.fit_transform(df['pendidikan'])"
   ]
  },
  {
   "cell_type": "code",
   "execution_count": 250,
   "id": "13f20839",
   "metadata": {},
   "outputs": [],
   "source": [
    "from sklearn.preprocessing import StandardScaler"
   ]
  },
  {
   "cell_type": "code",
   "execution_count": 257,
   "id": "dda3aa58",
   "metadata": {},
   "outputs": [],
   "source": [
    "\n",
    "# Inisialisasi objek StandardScaler\n",
    "scaler = StandardScaler()\n",
    "\n",
    "# Melakukan penskalaan pada data pelatihan dan data pengujian\n",
    "X_train_scaled = scaler.fit_transform(X_train)\n",
    "X_test_scaled = scaler.transform(X_test)\n",
    "X_train = X_train_scaled\n",
    "X_test = X_test_scaled"
   ]
  },
  {
   "cell_type": "code",
   "execution_count": 165,
   "id": "adbef053",
   "metadata": {},
   "outputs": [],
   "source": [
    "from sklearn.model_selection import train_test_split"
   ]
  },
  {
   "cell_type": "code",
   "execution_count": 261,
   "id": "1435204c",
   "metadata": {},
   "outputs": [
    {
     "name": "stdout",
     "output_type": "stream",
     "text": [
      "X_train shape (38, 2)\n",
      "X_test shape (10, 2)\n",
      "y_train shape (38,)\n",
      "y_test (10,)\n"
     ]
    }
   ],
   "source": [
    "X= df\n",
    "y=respon\n",
    "(X_train,X_test,y_train,y_test)=train_test_split(X,y,test_size=0.2, random_state=42)\n",
    "print(f'X_train shape {X_train.shape}')\n",
    "print(f'X_test shape {X_test.shape}')\n",
    "print(f'y_train shape {y_train.shape}')\n",
    "print(f'y_test {y_test.shape}')"
   ]
  },
  {
   "cell_type": "code",
   "execution_count": 183,
   "id": "f1da016b",
   "metadata": {},
   "outputs": [],
   "source": [
    "from sklearn.linear_model import LinearRegression\n",
    "from sklearn.metrics import mean_squared_error"
   ]
  },
  {
   "cell_type": "code",
   "execution_count": 262,
   "id": "26caddc4",
   "metadata": {},
   "outputs": [
    {
     "data": {
      "text/plain": [
       "10.635860928814019"
      ]
     },
     "execution_count": 262,
     "metadata": {},
     "output_type": "execute_result"
    }
   ],
   "source": [
    "model = LinearRegression()\n",
    "model.fit(X_train,y_train)\n",
    "y_pred=model.predict(X_test)\n",
    "mse = mean_squared_error(y_test, y_pred)\n",
    "mse"
   ]
  },
  {
   "cell_type": "code",
   "execution_count": 268,
   "id": "d73026ef",
   "metadata": {},
   "outputs": [
    {
     "data": {
      "text/plain": [
       "tingkat_penganggur_terbuka\n",
       "16.80    1\n",
       "9.51     1\n",
       "12.21    1\n",
       "8.02     1\n",
       "4.91     1\n",
       "9.68     1\n",
       "6.29     1\n",
       "12.08    1\n",
       "10.18    1\n",
       "10.87    1\n",
       "Name: count, dtype: int64"
      ]
     },
     "execution_count": 268,
     "metadata": {},
     "output_type": "execute_result"
    }
   ],
   "source": []
  },
  {
   "cell_type": "code",
   "execution_count": 263,
   "id": "2dcf45ab",
   "metadata": {},
   "outputs": [],
   "source": [
    "dff = pd.DataFrame({'actual':y_test, 'prediksi': y_pred})"
   ]
  },
  {
   "cell_type": "code",
   "execution_count": 264,
   "id": "0494812f",
   "metadata": {},
   "outputs": [
    {
     "data": {
      "text/html": [
       "<div>\n",
       "<style scoped>\n",
       "    .dataframe tbody tr th:only-of-type {\n",
       "        vertical-align: middle;\n",
       "    }\n",
       "\n",
       "    .dataframe tbody tr th {\n",
       "        vertical-align: top;\n",
       "    }\n",
       "\n",
       "    .dataframe thead th {\n",
       "        text-align: right;\n",
       "    }\n",
       "</style>\n",
       "<table border=\"1\" class=\"dataframe\">\n",
       "  <thead>\n",
       "    <tr style=\"text-align: right;\">\n",
       "      <th></th>\n",
       "      <th>actual</th>\n",
       "      <th>prediksi</th>\n",
       "    </tr>\n",
       "  </thead>\n",
       "  <tbody>\n",
       "    <tr>\n",
       "      <th>27</th>\n",
       "      <td>16.80</td>\n",
       "      <td>9.315812</td>\n",
       "    </tr>\n",
       "    <tr>\n",
       "      <th>40</th>\n",
       "      <td>9.51</td>\n",
       "      <td>8.777159</td>\n",
       "    </tr>\n",
       "    <tr>\n",
       "      <th>26</th>\n",
       "      <td>12.21</td>\n",
       "      <td>9.324049</td>\n",
       "    </tr>\n",
       "    <tr>\n",
       "      <th>43</th>\n",
       "      <td>8.02</td>\n",
       "      <td>8.549016</td>\n",
       "    </tr>\n",
       "    <tr>\n",
       "      <th>24</th>\n",
       "      <td>4.91</td>\n",
       "      <td>9.307575</td>\n",
       "    </tr>\n",
       "    <tr>\n",
       "      <th>37</th>\n",
       "      <td>9.68</td>\n",
       "      <td>8.810106</td>\n",
       "    </tr>\n",
       "    <tr>\n",
       "      <th>12</th>\n",
       "      <td>6.29</td>\n",
       "      <td>9.829756</td>\n",
       "    </tr>\n",
       "    <tr>\n",
       "      <th>19</th>\n",
       "      <td>12.08</td>\n",
       "      <td>9.593376</td>\n",
       "    </tr>\n",
       "    <tr>\n",
       "      <th>4</th>\n",
       "      <td>10.18</td>\n",
       "      <td>10.343699</td>\n",
       "    </tr>\n",
       "    <tr>\n",
       "      <th>25</th>\n",
       "      <td>10.87</td>\n",
       "      <td>9.332286</td>\n",
       "    </tr>\n",
       "  </tbody>\n",
       "</table>\n",
       "</div>"
      ],
      "text/plain": [
       "    actual   prediksi\n",
       "27   16.80   9.315812\n",
       "40    9.51   8.777159\n",
       "26   12.21   9.324049\n",
       "43    8.02   8.549016\n",
       "24    4.91   9.307575\n",
       "37    9.68   8.810106\n",
       "12    6.29   9.829756\n",
       "19   12.08   9.593376\n",
       "4    10.18  10.343699\n",
       "25   10.87   9.332286"
      ]
     },
     "execution_count": 264,
     "metadata": {},
     "output_type": "execute_result"
    }
   ],
   "source": [
    "dff"
   ]
  },
  {
   "cell_type": "code",
   "execution_count": 269,
   "id": "c626bee6",
   "metadata": {},
   "outputs": [
    {
     "data": {
      "image/png": "[encoded data removed]",
      "text/plain": [
       "<Figure size 640x480 with 1 Axes>"
      ]
     },
     "metadata": {},
     "output_type": "display_data"
    }
   ],
   "source": [
    "import matplotlib.pyplot as plt\n",
    "\n",
    "# Membuat plot prediksi vs aktual\n",
    "plt.scatter(y_test, y_pred, color='blue')\n",
    "plt.plot([min(y_test), max(y_test)], [min(y_test), max(y_test)], 'k--', lw=2)  # Garis 45 derajat sebagai referensi\n",
    "plt.xlabel('Nilai Aktual')\n",
    "plt.ylabel('Nilai Prediksi')\n",
    "plt.title('Prediksi vs. Aktual')\n",
    "plt.show()\n"
   ]
  },
  {
   "cell_type": "code",
   "execution_count": 270,
   "id": "5389f8b5",
   "metadata": {},
   "outputs": [
    {
     "data": {
      "image/png": "[encoded data removed]",
      "text/plain": [
       "<Figure size 640x480 with 1 Axes>"
      ]
     },
     "metadata": {},
     "output_type": "display_data"
    }
   ],
   "source": [
    "import matplotlib.pyplot as plt\n",
    "\n",
    "# Menghitung residual\n",
    "residuals = y_test - y_pred\n",
    "\n",
    "# Membuat plot residual\n",
    "plt.scatter(y_pred, residuals, color='blue')\n",
    "plt.hlines(y=0, xmin=min(y_pred), xmax=max(y_pred), colors='red', linestyles='dashed')\n",
    "plt.xlabel('Nilai Prediksi')\n",
    "plt.ylabel('Residuals')\n",
    "plt.title('Residual Plot')\n",
    "plt.show()\n",
    "\n"
   ]
  }
 ],
 "metadata": {
  "kernelspec": {
   "display_name": "Python 3 (ipykernel)",
   "language": "python",
   "name": "python3"
  },
  "language_info": {
   "codemirror_mode": {
    "name": "ipython",
    "version": 3
   },
   "file_extension": ".py",
   "mimetype": "text/x-python",
   "name": "python",
   "nbconvert_exporter": "python",
   "pygments_lexer": "ipython3",
   "version": "3.11.5"
  }
 },
 "nbformat": 4,
 "nbformat_minor": 5
}
